{
 "cells": [
  {
   "cell_type": "code",
   "execution_count": 8,
   "metadata": {},
   "outputs": [],
   "source": [
    "# !pip install PyPDF2\n",
    "# !pip install --upgrade PyPDF2\n",
    "# !pip install pycryptodome"
   ]
  },
  {
   "cell_type": "code",
   "execution_count": null,
   "metadata": {},
   "outputs": [],
   "source": [
    "# Merge PDF files into one\n",
    "from PyPDF2 import PdfMerger\n",
    "\n",
    "merger = PdfMerger()\n",
    "\n",
    "# Merge 3 different files\n",
    "merger.append(r\"pdf1.pdf\")\n",
    "merger.append(r\"pdf2.pdf\")\n",
    "# merger.append(r\"pdf3.pdf\")\n",
    "\n",
    "# Write the output PDF to a file\n",
    "merger.write(\"combined.pdf\")\n",
    "merger.close()"
   ]
  },
  {
   "cell_type": "code",
   "execution_count": null,
   "metadata": {},
   "outputs": [],
   "source": [
    "# Extract 1 page from a PDF file\n",
    "from PyPDF2 import PdfReader, PdfWriter\n",
    "\n",
    "input_pdf = PdfReader(\"inputPDF.pdf\")\n",
    "\n",
    "# Create a PDF writer object for the output PDF\n",
    "output_pdf = PdfWriter()\n",
    "\n",
    "# Add the desired page (e.g., page 1, remember that page indexing starts at 0)\n",
    "output_pdf.add_page(input_pdf.pages[9])\n",
    "output_pdf.add_page(input_pdf.pages[10])\n",
    "output_pdf.add_page(input_pdf.pages[0])\n",
    "output_pdf.add_page(input_pdf.pages[1])\n",
    "output_pdf.add_page(input_pdf.pages[2])\n",
    "\n",
    "# Write the output PDF to a file\n",
    "with open(\"outputPDF.pdf\", \"wb\") as output_file:\n",
    "    output_pdf.write(output_file)"
   ]
  }
 ],
 "metadata": {
  "kernelspec": {
   "display_name": "base",
   "language": "python",
   "name": "python3"
  },
  "language_info": {
   "codemirror_mode": {
    "name": "ipython",
    "version": 3
   },
   "file_extension": ".py",
   "mimetype": "text/x-python",
   "name": "python",
   "nbconvert_exporter": "python",
   "pygments_lexer": "ipython3",
   "version": "3.9.7"
  }
 },
 "nbformat": 4,
 "nbformat_minor": 2
}
