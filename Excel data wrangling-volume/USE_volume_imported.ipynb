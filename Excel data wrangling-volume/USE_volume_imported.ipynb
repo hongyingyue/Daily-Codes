{
 "cells": [
  {
   "cell_type": "code",
   "execution_count": 1,
   "metadata": {},
   "outputs": [],
   "source": [
    "import pandas as pd\n",
    "import numpy as np"
   ]
  },
  {
   "cell_type": "markdown",
   "metadata": {},
   "source": [
    "# Note\n",
    "- 2020与2021年数据不再变更，不再进行处理，直接处理2022年全年数据，每月整体更新\n",
    "- 2022年新增“企业简称”字段，可增加；企业简称按车型维度进行对照"
   ]
  },
  {
   "cell_type": "markdown",
   "metadata": {},
   "source": [
    "### 处理步骤"
   ]
  },
  {
   "cell_type": "markdown",
   "metadata": {},
   "source": [
    "0. 读入数据"
   ]
  },
  {
   "cell_type": "code",
   "execution_count": 26,
   "metadata": {},
   "outputs": [],
   "source": [
    "df = pd.read_excel('2205_cn.xlsx',sheet_name=[0,1,2],header=3) # 一次性将所有sheet都读出\n",
    "# raw20 = df[1]\n",
    "# raw21 = df[0]\n",
    "raw22 = df[0]"
   ]
  },
  {
   "cell_type": "code",
   "execution_count": 3,
   "metadata": {
    "scrolled": true
   },
   "outputs": [
    {
     "data": {
      "text/html": [
       "<div>\n",
       "<style scoped>\n",
       "    .dataframe tbody tr th:only-of-type {\n",
       "        vertical-align: middle;\n",
       "    }\n",
       "\n",
       "    .dataframe tbody tr th {\n",
       "        vertical-align: top;\n",
       "    }\n",
       "\n",
       "    .dataframe thead th {\n",
       "        text-align: right;\n",
       "    }\n",
       "</style>\n",
       "<table border=\"1\" class=\"dataframe\">\n",
       "  <thead>\n",
       "    <tr style=\"text-align: right;\">\n",
       "      <th></th>\n",
       "      <th>企业简称</th>\n",
       "      <th>品牌</th>\n",
       "      <th>国产进口</th>\n",
       "      <th>车辆类型</th>\n",
       "      <th>车型</th>\n",
       "      <th>HV/PHV/EV</th>\n",
       "      <th>１月</th>\n",
       "      <th>２月</th>\n",
       "      <th>３月</th>\n",
       "      <th>４月</th>\n",
       "      <th>５月</th>\n",
       "      <th>６月</th>\n",
       "      <th>７月</th>\n",
       "      <th>８月</th>\n",
       "      <th>９月</th>\n",
       "      <th>１０月</th>\n",
       "      <th>１１月</th>\n",
       "      <th>１２月</th>\n",
       "      <th>2022年</th>\n",
       "    </tr>\n",
       "  </thead>\n",
       "  <tbody>\n",
       "    <tr>\n",
       "      <th>0</th>\n",
       "      <td>爱驰汽车</td>\n",
       "      <td>爱驰</td>\n",
       "      <td>国产</td>\n",
       "      <td>SUV</td>\n",
       "      <td>爱驰U5</td>\n",
       "      <td>EV</td>\n",
       "      <td>59.0</td>\n",
       "      <td>7.0</td>\n",
       "      <td>48.0</td>\n",
       "      <td>15.0</td>\n",
       "      <td>27.0</td>\n",
       "      <td>NaN</td>\n",
       "      <td>NaN</td>\n",
       "      <td>NaN</td>\n",
       "      <td>NaN</td>\n",
       "      <td>NaN</td>\n",
       "      <td>NaN</td>\n",
       "      <td>NaN</td>\n",
       "      <td>NaN</td>\n",
       "    </tr>\n",
       "    <tr>\n",
       "      <th>1</th>\n",
       "      <td>爱驰汽车</td>\n",
       "      <td>爱驰 Total</td>\n",
       "      <td>NaN</td>\n",
       "      <td>NaN</td>\n",
       "      <td>NaN</td>\n",
       "      <td>NaN</td>\n",
       "      <td>59.0</td>\n",
       "      <td>7.0</td>\n",
       "      <td>48.0</td>\n",
       "      <td>15.0</td>\n",
       "      <td>27.0</td>\n",
       "      <td>NaN</td>\n",
       "      <td>NaN</td>\n",
       "      <td>NaN</td>\n",
       "      <td>NaN</td>\n",
       "      <td>NaN</td>\n",
       "      <td>NaN</td>\n",
       "      <td>NaN</td>\n",
       "      <td>NaN</td>\n",
       "    </tr>\n",
       "    <tr>\n",
       "      <th>2</th>\n",
       "      <td>爱驰汽车 Total</td>\n",
       "      <td>NaN</td>\n",
       "      <td>NaN</td>\n",
       "      <td>NaN</td>\n",
       "      <td>NaN</td>\n",
       "      <td>NaN</td>\n",
       "      <td>59.0</td>\n",
       "      <td>7.0</td>\n",
       "      <td>48.0</td>\n",
       "      <td>15.0</td>\n",
       "      <td>27.0</td>\n",
       "      <td>NaN</td>\n",
       "      <td>NaN</td>\n",
       "      <td>NaN</td>\n",
       "      <td>NaN</td>\n",
       "      <td>NaN</td>\n",
       "      <td>NaN</td>\n",
       "      <td>NaN</td>\n",
       "      <td>NaN</td>\n",
       "    </tr>\n",
       "    <tr>\n",
       "      <th>3</th>\n",
       "      <td>阿斯顿马丁汽车</td>\n",
       "      <td>阿斯顿·马丁</td>\n",
       "      <td>进口</td>\n",
       "      <td>Cars</td>\n",
       "      <td>阿斯顿·马丁DB11</td>\n",
       "      <td>NaN</td>\n",
       "      <td>26.0</td>\n",
       "      <td>7.0</td>\n",
       "      <td>7.0</td>\n",
       "      <td>4.0</td>\n",
       "      <td>12.0</td>\n",
       "      <td>NaN</td>\n",
       "      <td>NaN</td>\n",
       "      <td>NaN</td>\n",
       "      <td>NaN</td>\n",
       "      <td>NaN</td>\n",
       "      <td>NaN</td>\n",
       "      <td>NaN</td>\n",
       "      <td>NaN</td>\n",
       "    </tr>\n",
       "    <tr>\n",
       "      <th>4</th>\n",
       "      <td>阿斯顿马丁汽车</td>\n",
       "      <td>阿斯顿·马丁</td>\n",
       "      <td>进口</td>\n",
       "      <td>Cars</td>\n",
       "      <td>阿斯顿·马丁DBS</td>\n",
       "      <td>NaN</td>\n",
       "      <td>2.0</td>\n",
       "      <td>NaN</td>\n",
       "      <td>1.0</td>\n",
       "      <td>NaN</td>\n",
       "      <td>3.0</td>\n",
       "      <td>NaN</td>\n",
       "      <td>NaN</td>\n",
       "      <td>NaN</td>\n",
       "      <td>NaN</td>\n",
       "      <td>NaN</td>\n",
       "      <td>NaN</td>\n",
       "      <td>NaN</td>\n",
       "      <td>NaN</td>\n",
       "    </tr>\n",
       "  </tbody>\n",
       "</table>\n",
       "</div>"
      ],
      "text/plain": [
       "         企业简称        品牌 国产进口  车辆类型          车型 HV/PHV/EV    １月   ２月    ３月  \\\n",
       "0        爱驰汽车        爱驰   国产   SUV        爱驰U5        EV  59.0  7.0  48.0   \n",
       "1        爱驰汽车  爱驰 Total  NaN   NaN         NaN       NaN  59.0  7.0  48.0   \n",
       "2  爱驰汽车 Total       NaN  NaN   NaN         NaN       NaN  59.0  7.0  48.0   \n",
       "3     阿斯顿马丁汽车    阿斯顿·马丁   进口  Cars  阿斯顿·马丁DB11       NaN  26.0  7.0   7.0   \n",
       "4     阿斯顿马丁汽车    阿斯顿·马丁   进口  Cars   阿斯顿·马丁DBS       NaN   2.0  NaN   1.0   \n",
       "\n",
       "     ４月    ５月  ６月  ７月  ８月  ９月  １０月  １１月  １２月  2022年  \n",
       "0  15.0  27.0 NaN NaN NaN NaN  NaN  NaN  NaN    NaN  \n",
       "1  15.0  27.0 NaN NaN NaN NaN  NaN  NaN  NaN    NaN  \n",
       "2  15.0  27.0 NaN NaN NaN NaN  NaN  NaN  NaN    NaN  \n",
       "3   4.0  12.0 NaN NaN NaN NaN  NaN  NaN  NaN    NaN  \n",
       "4   NaN   3.0 NaN NaN NaN NaN  NaN  NaN  NaN    NaN  "
      ]
     },
     "execution_count": 3,
     "metadata": {},
     "output_type": "execute_result"
    }
   ],
   "source": [
    "raw22.head()"
   ]
  },
  {
   "cell_type": "markdown",
   "metadata": {},
   "source": [
    "- 1.5 提取企业-车型对照表"
   ]
  },
  {
   "cell_type": "code",
   "execution_count": 12,
   "metadata": {},
   "outputs": [],
   "source": [
    "oem_model = raw22[['企业简称','品牌','车型','国产进口']].drop_duplicates().dropna(subset=['车型'])\n",
    "# oem_model.groupby('车型').nunique().sort_values(by='企业简称',ascending=False)\n",
    "# oem_model.head()\n",
    "oem_model.to_csv('企业车型对照表.csv',encoding='gbk',index=False)"
   ]
  },
  {
   "cell_type": "markdown",
   "metadata": {},
   "source": [
    "新的企业车型对照表是完整的，此字段2022年新增"
   ]
  },
  {
   "cell_type": "markdown",
   "metadata": {},
   "source": [
    "- 2 将两个表内分别增加年份列后合并成为一个表"
   ]
  },
  {
   "cell_type": "code",
   "execution_count": 4,
   "metadata": {},
   "outputs": [],
   "source": [
    "# raw20.rename(columns={'2020年':'year'},inplace=True)\n",
    "# raw20.year = 2020\n",
    "# raw21.rename(columns={'2021年':'year'},inplace=True)\n",
    "# raw21.year = 2021\n",
    "# raw = pd.concat([raw20,raw21],axis=0)\n",
    "\n",
    "raw22.rename(columns={'2022年':'year'},inplace=True)\n",
    "raw22.year = 2022"
   ]
  },
  {
   "cell_type": "markdown",
   "metadata": {},
   "source": [
    "- 3 删除“品牌”列中含\"Total\"的行\n",
    "- 4 将“燃料类型”列重命名，并将其中的NaN替换为ICE"
   ]
  },
  {
   "cell_type": "code",
   "execution_count": 5,
   "metadata": {},
   "outputs": [],
   "source": [
    "raw = raw22.iloc[:,1:].dropna(subset=['品牌','国产进口'])\n",
    "# raw = raw[-raw['品牌'].str.contains('Total')]\n",
    "\n",
    "raw.rename(columns={'HV/PHV/EV':'fueltype'},inplace=True)\n",
    "raw.fueltype.fillna('ICE',inplace=True)"
   ]
  },
  {
   "cell_type": "markdown",
   "metadata": {},
   "source": [
    "- 5 表格变形\n",
    "- 6 删除没有销量的行\n",
    "- 7 去掉month中的“月”字，将字符串转换为数字\n",
    "- 8 将车辆类型中的Cars替换为CAR"
   ]
  },
  {
   "cell_type": "code",
   "execution_count": 6,
   "metadata": {},
   "outputs": [],
   "source": [
    "id_cols = raw.columns[[0,1,2,3,4,17]]\n",
    "value_cols = raw.columns[5:17]\n",
    "df = raw.melt(id_vars=id_cols,value_vars=value_cols,var_name='month',value_name='volume')\n",
    "\n",
    "df.dropna(axis=0,subset=['volume'],inplace=True)\n",
    "df.month = df.month.str.replace('月','')\n",
    "df.车辆类型 = df.车辆类型.str.replace('Cars','CAR')"
   ]
  },
  {
   "cell_type": "markdown",
   "metadata": {},
   "source": [
    "- 9 依次按年和月降序排列"
   ]
  },
  {
   "cell_type": "code",
   "execution_count": 7,
   "metadata": {},
   "outputs": [],
   "source": [
    "df.sort_values(by=['year','month'],ascending=False,inplace=True)"
   ]
  },
  {
   "cell_type": "code",
   "execution_count": 8,
   "metadata": {},
   "outputs": [
    {
     "data": {
      "text/html": [
       "<div>\n",
       "<style scoped>\n",
       "    .dataframe tbody tr th:only-of-type {\n",
       "        vertical-align: middle;\n",
       "    }\n",
       "\n",
       "    .dataframe tbody tr th {\n",
       "        vertical-align: top;\n",
       "    }\n",
       "\n",
       "    .dataframe thead th {\n",
       "        text-align: right;\n",
       "    }\n",
       "</style>\n",
       "<table border=\"1\" class=\"dataframe\">\n",
       "  <thead>\n",
       "    <tr style=\"text-align: right;\">\n",
       "      <th></th>\n",
       "      <th>品牌</th>\n",
       "      <th>国产进口</th>\n",
       "      <th>车辆类型</th>\n",
       "      <th>车型</th>\n",
       "      <th>fueltype</th>\n",
       "      <th>year</th>\n",
       "      <th>month</th>\n",
       "      <th>volume</th>\n",
       "    </tr>\n",
       "  </thead>\n",
       "  <tbody>\n",
       "    <tr>\n",
       "      <th>4612</th>\n",
       "      <td>爱驰</td>\n",
       "      <td>国产</td>\n",
       "      <td>SUV</td>\n",
       "      <td>爱驰U5</td>\n",
       "      <td>EV</td>\n",
       "      <td>2022</td>\n",
       "      <td>５</td>\n",
       "      <td>27.0</td>\n",
       "    </tr>\n",
       "    <tr>\n",
       "      <th>4613</th>\n",
       "      <td>阿斯顿·马丁</td>\n",
       "      <td>进口</td>\n",
       "      <td>CAR</td>\n",
       "      <td>阿斯顿·马丁DB11</td>\n",
       "      <td>ICE</td>\n",
       "      <td>2022</td>\n",
       "      <td>５</td>\n",
       "      <td>12.0</td>\n",
       "    </tr>\n",
       "    <tr>\n",
       "      <th>4614</th>\n",
       "      <td>阿斯顿·马丁</td>\n",
       "      <td>进口</td>\n",
       "      <td>CAR</td>\n",
       "      <td>阿斯顿·马丁DBS</td>\n",
       "      <td>ICE</td>\n",
       "      <td>2022</td>\n",
       "      <td>５</td>\n",
       "      <td>3.0</td>\n",
       "    </tr>\n",
       "    <tr>\n",
       "      <th>4615</th>\n",
       "      <td>阿斯顿·马丁</td>\n",
       "      <td>进口</td>\n",
       "      <td>CAR</td>\n",
       "      <td>阿斯顿·马丁V8 Vantage</td>\n",
       "      <td>ICE</td>\n",
       "      <td>2022</td>\n",
       "      <td>５</td>\n",
       "      <td>12.0</td>\n",
       "    </tr>\n",
       "    <tr>\n",
       "      <th>4616</th>\n",
       "      <td>阿斯顿·马丁</td>\n",
       "      <td>进口</td>\n",
       "      <td>SUV</td>\n",
       "      <td>阿斯顿·马丁DBX</td>\n",
       "      <td>ICE</td>\n",
       "      <td>2022</td>\n",
       "      <td>５</td>\n",
       "      <td>34.0</td>\n",
       "    </tr>\n",
       "  </tbody>\n",
       "</table>\n",
       "</div>"
      ],
      "text/plain": [
       "          品牌 国产进口 车辆类型                车型 fueltype  year month  volume\n",
       "4612      爱驰   国产  SUV              爱驰U5       EV  2022     ５    27.0\n",
       "4613  阿斯顿·马丁   进口  CAR        阿斯顿·马丁DB11      ICE  2022     ５    12.0\n",
       "4614  阿斯顿·马丁   进口  CAR         阿斯顿·马丁DBS      ICE  2022     ５     3.0\n",
       "4615  阿斯顿·马丁   进口  CAR  阿斯顿·马丁V8 Vantage      ICE  2022     ５    12.0\n",
       "4616  阿斯顿·马丁   进口  SUV         阿斯顿·马丁DBX      ICE  2022     ５    34.0"
      ]
     },
     "execution_count": 8,
     "metadata": {},
     "output_type": "execute_result"
    }
   ],
   "source": [
    "df.head()"
   ]
  },
  {
   "cell_type": "markdown",
   "metadata": {},
   "source": [
    "- 10 导出最终的原始数据"
   ]
  },
  {
   "cell_type": "code",
   "execution_count": 9,
   "metadata": {},
   "outputs": [],
   "source": [
    "df[df['month'].isin(['５'])].to_csv(\"2205_cn.csv\",index=False,encoding='gbk')"
   ]
  },
  {
   "cell_type": "code",
   "execution_count": 10,
   "metadata": {},
   "outputs": [
    {
     "data": {
      "text/plain": [
       "array(['５', '４', '３', '２', '１'], dtype=object)"
      ]
     },
     "execution_count": 10,
     "metadata": {},
     "output_type": "execute_result"
    }
   ],
   "source": [
    "df.month.unique()"
   ]
  }
 ],
 "metadata": {
  "kernelspec": {
   "display_name": "Python 3",
   "language": "python",
   "name": "python3"
  },
  "language_info": {
   "codemirror_mode": {
    "name": "ipython",
    "version": 3
   },
   "file_extension": ".py",
   "mimetype": "text/x-python",
   "name": "python",
   "nbconvert_exporter": "python",
   "pygments_lexer": "ipython3",
   "version": "3.6.5"
  }
 },
 "nbformat": 4,
 "nbformat_minor": 4
}
